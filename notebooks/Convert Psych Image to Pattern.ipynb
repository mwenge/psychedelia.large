{
 "cells": [
  {
   "cell_type": "markdown",
   "metadata": {},
   "source": [
    "# Create a Psychedelia Bitmap from a Raw Image"
   ]
  },
  {
   "cell_type": "markdown",
   "metadata": {},
   "source": [
    "Download the image"
   ]
  },
  {
   "cell_type": "code",
   "execution_count": 1,
   "metadata": {},
   "outputs": [
    {
     "name": "stdout",
     "output_type": "stream",
     "text": [
      "  % Total    % Received % Xferd  Average Speed   Time    Time     Time  Current\n",
      "                                 Dload  Upload   Total   Spent    Left  Speed\n",
      "100  1416  100  1416    0     0   6129      0 --:--:-- --:--:-- --:--:--  6129\n"
     ]
    }
   ],
   "source": [
    "! curl \"https://worldofspectrum.org//pub/sinclair/screens/in-game/p/Psychedelia.gif\" -o psych.jpg"
   ]
  },
  {
   "cell_type": "markdown",
   "metadata": {},
   "source": [
    "Load it and resize it"
   ]
  },
  {
   "cell_type": "code",
   "execution_count": 2,
   "metadata": {},
   "outputs": [
    {
     "data": {
      "image/png": "[encoded data removed]",
      "text/plain": [
       "<PIL.Image.Image image mode=1 size=256x192>"
      ]
     },
     "execution_count": 2,
     "metadata": {},
     "output_type": "execute_result"
    }
   ],
   "source": [
    "import numpy as np\n",
    "from PIL import Image, ImageChops\n",
    "thresh = 10\n",
    "fn = lambda x : 255 if x > thresh else 0\n",
    "\n",
    "pname = \"psych\"\n",
    "rf = 1\n",
    "\n",
    "img = Image.open(f'{pname}.jpg')\n",
    "img = (img.convert('L').point(fn, mode='1').resize((int(img.width/rf), int(img.height/rf))))\n",
    "img = ImageChops.invert(img)\n",
    "img"
   ]
  },
  {
   "cell_type": "markdown",
   "metadata": {},
   "source": [
    "Convert the image to a bitmap of 0s and 1s"
   ]
  },
  {
   "cell_type": "code",
   "execution_count": 3,
   "metadata": {},
   "outputs": [],
   "source": [
    "img_data = list(img.getdata())\n",
    "img_array = []\n",
    "for i in range(0,len(img_data), img.width):\n",
    "    img_array += [(0 if p == 255 else 1) for p in img_data[i:i+img.width]]\n",
    "    #print(''.join([str((0 if p == 255 else 1)) for p in img_data[i:i+img.width]]))"
   ]
  },
  {
   "cell_type": "markdown",
   "metadata": {},
   "source": [
    "Filter the bitmap to just the pixels that plot the edge of the image"
   ]
  },
  {
   "cell_type": "code",
   "execution_count": 4,
   "metadata": {},
   "outputs": [
    {
     "data": {
      "text/plain": [
       "735"
      ]
     },
     "execution_count": 4,
     "metadata": {},
     "output_type": "execute_result"
    }
   ],
   "source": [
    "import math\n",
    "\n",
    "pixel_indices = []\n",
    "pv = 0\n",
    "for i,v in enumerate(img_array):\n",
    "    last_two = pv+v\n",
    "    if last_two == 1 and v == 1:\n",
    "        pixel_indices += [i]\n",
    "    pv = v\n",
    "\n",
    "pixel_x_ys = [(p%img.width, math.floor(p/img.width)) for p in pixel_indices]\n",
    "len(pixel_x_ys)"
   ]
  },
  {
   "cell_type": "code",
   "execution_count": 5,
   "metadata": {},
   "outputs": [
    {
     "data": {
      "image/png": "[encoded data removed]",
      "text/plain": [
       "<PIL.Image.Image image mode=RGB size=256x192>"
      ]
     },
     "execution_count": 5,
     "metadata": {},
     "output_type": "execute_result"
    }
   ],
   "source": [
    "# PIL accesses images in Cartesian co-ordinates, so it is Image[columns, rows]\n",
    "timg = Image.new( 'RGB', (img.width,img.height), \"white\") # create a new black image\n",
    "pixels = timg.load() # create the pixel map\n",
    "\n",
    "for x,y in pixel_x_ys:\n",
    "    pixels[x,y] = (0,0,0)\n",
    "timg"
   ]
  },
  {
   "cell_type": "markdown",
   "metadata": {},
   "source": [
    "Convert the bitmap to the format required by Psychedelia"
   ]
  },
  {
   "cell_type": "code",
   "execution_count": 6,
   "metadata": {},
   "outputs": [],
   "source": [
    "origin = (int(img.width/2), int(img.height/2))\n",
    "x_origin, y_origin = origin\n",
    "x_array, y_array = [],[]\n",
    "for x,y in pixel_x_ys:\n",
    "    x_array += [x - x_origin]\n",
    "    y_array += [y - y_origin]\n",
    "\n",
    "x_string,y_string = \"\",\"\"\n",
    "for i in range(0, len(x_array), 8):\n",
    "    x_string += ','.join([str(x) for x in  x_array[i:i+8]])+',0x55,\\n'\n",
    "    y_string += ','.join([str(y) for y in  y_array[i:i+8]])+',0x55,\\n'\n"
   ]
  },
  {
   "cell_type": "markdown",
   "metadata": {},
   "source": [
    "Write it to a file of its own"
   ]
  },
  {
   "cell_type": "code",
   "execution_count": 7,
   "metadata": {},
   "outputs": [],
   "source": [
    "\n",
    "output_file = open(f'../src/patterns/{pname}.js','w')\n",
    "output_file.write(f'export const xArray = [\\n{x_string}];\\n\\n')\n",
    "output_file.write(f'export const yArray = [\\n{y_string}];\\n')\n",
    "output_file.close()"
   ]
  }
 ],
 "metadata": {
  "kernelspec": {
   "display_name": "Python 3",
   "language": "python",
   "name": "python3"
  },
  "language_info": {
   "codemirror_mode": {
    "name": "ipython",
    "version": 3
   },
   "file_extension": ".py",
   "mimetype": "text/x-python",
   "name": "python",
   "nbconvert_exporter": "python",
   "pygments_lexer": "ipython3",
   "version": "3.8.10"
  }
 },
 "nbformat": 4,
 "nbformat_minor": 4
}
