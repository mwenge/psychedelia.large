{
 "cells": [
  {
   "cell_type": "markdown",
   "metadata": {},
   "source": [
    "# Create a Psychedelia Bitmap from a Raw Image"
   ]
  },
  {
   "cell_type": "markdown",
   "metadata": {},
   "source": [
    "Download the image"
   ]
  },
  {
   "cell_type": "code",
   "execution_count": 61,
   "metadata": {},
   "outputs": [
    {
     "name": "stdout",
     "output_type": "stream",
     "text": [
      "  % Total    % Received % Xferd  Average Speed   Time    Time     Time  Current\n",
      "                                 Dload  Upload   Total   Spent    Left  Speed\n",
      "100 56385    0 56385    0     0   234k      0 --:--:-- --:--:-- --:--:--  233k\n"
     ]
    }
   ],
   "source": [
    "! curl \"https://c8.alamy.com/comp/G2FPTW/outline-bull-head-G2FPTW.jpg\" -o bull.jpg"
   ]
  },
  {
   "cell_type": "markdown",
   "metadata": {},
   "source": [
    "Load it and resize it"
   ]
  },
  {
   "cell_type": "code",
   "execution_count": 67,
   "metadata": {},
   "outputs": [
    {
     "data": {
      "image/png": "[encoded data removed]",
      "text/plain": [
       "<PIL.Image.Image image mode=1 size=220x200>"
      ]
     },
     "execution_count": 67,
     "metadata": {},
     "output_type": "execute_result"
    }
   ],
   "source": [
    "import numpy as np\n",
    "from PIL import Image, ImageChops\n",
    "thresh = 50\n",
    "fn = lambda x : 255 if x > thresh else 0\n",
    "pname = \"bull\"\n",
    "\n",
    "img = Image.open(f'{pname}.jpg')\n",
    "img = (img.convert('L').point(fn, mode='1').resize((int(img.width/6), int(img.height/6)))\n",
    "      .crop((0,0,220,200)))\n",
    "#img = ImageChops.invert(img)\n",
    "img"
   ]
  },
  {
   "cell_type": "markdown",
   "metadata": {},
   "source": [
    "Convert the image to a bitmap of 0s and 1s"
   ]
  },
  {
   "cell_type": "code",
   "execution_count": 68,
   "metadata": {},
   "outputs": [],
   "source": [
    "img_data = list(img.getdata())\n",
    "img_array = []\n",
    "for i in range(0,len(img_data), img.width):\n",
    "    img_array += [(0 if p == 255 else 1) for p in img_data[i:i+img.width]]\n",
    "    #print(''.join([str((0 if p == 255 else 1)) for p in img_data[i:i+img.width]]))"
   ]
  },
  {
   "cell_type": "markdown",
   "metadata": {},
   "source": [
    "Filter the bitmap to just the pixels that plot the edge of the image"
   ]
  },
  {
   "cell_type": "code",
   "execution_count": 69,
   "metadata": {},
   "outputs": [
    {
     "data": {
      "text/plain": [
       "1499"
      ]
     },
     "execution_count": 69,
     "metadata": {},
     "output_type": "execute_result"
    }
   ],
   "source": [
    "import math\n",
    "\n",
    "pixel_indices = []\n",
    "pv = 0\n",
    "for i,v in enumerate(img_array):\n",
    "    last_two = pv+v\n",
    "    if last_two == 1:\n",
    "        pixel_indices += [i]\n",
    "    pv = v\n",
    "\n",
    "pixel_x_ys = [(p%img.width, math.floor(p/img.width)) for p in pixel_indices]\n",
    "len(pixel_x_ys)"
   ]
  },
  {
   "cell_type": "markdown",
   "metadata": {},
   "source": [
    "Convert the bitmap to the format required by Psychedelia"
   ]
  },
  {
   "cell_type": "code",
   "execution_count": 70,
   "metadata": {},
   "outputs": [],
   "source": [
    "origin = (int(img.width/2), int(img.height/2))\n",
    "x_origin, y_origin = origin\n",
    "x_array, y_array = [],[]\n",
    "for x,y in pixel_x_ys:\n",
    "    x_array += [x - x_origin]\n",
    "    y_array += [y - y_origin]\n",
    "\n",
    "x_string,y_string = \"\",\"\"\n",
    "for i in range(0, len(x_array), 8):\n",
    "    x_string += ','.join([str(x) for x in  x_array[i:i+8]])+',0x55,\\n'\n",
    "    y_string += ','.join([str(y) for y in  y_array[i:i+8]])+',0x55,\\n'\n"
   ]
  },
  {
   "cell_type": "markdown",
   "metadata": {},
   "source": [
    "Write it to a file of its own"
   ]
  },
  {
   "cell_type": "code",
   "execution_count": 71,
   "metadata": {},
   "outputs": [],
   "source": [
    "\n",
    "output_file = open(f'src/patterns/{pname}.js','w')\n",
    "output_file.write(f'export const xArray = [\\n{x_string}];\\n\\n')\n",
    "output_file.write(f'export const yArray = [\\n{y_string}];\\n')\n",
    "output_file.close()"
   ]
  }
 ],
 "metadata": {
  "kernelspec": {
   "display_name": "Python 3",
   "language": "python",
   "name": "python3"
  },
  "language_info": {
   "codemirror_mode": {
    "name": "ipython",
    "version": 3
   },
   "file_extension": ".py",
   "mimetype": "text/x-python",
   "name": "python",
   "nbconvert_exporter": "python",
   "pygments_lexer": "ipython3",
   "version": "3.8.10"
  }
 },
 "nbformat": 4,
 "nbformat_minor": 4
}
